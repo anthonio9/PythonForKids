{
  "nbformat": 4,
  "nbformat_minor": 0,
  "metadata": {
    "colab": {
      "name": "Lekcja02.ipynb",
      "provenance": [],
      "toc_visible": true,
      "authorship_tag": "ABX9TyOn7ts5GFIX4TXtIUFxqyBg",
      "include_colab_link": true
    },
    "kernelspec": {
      "name": "python3",
      "display_name": "Python 3"
    },
    "language_info": {
      "name": "python"
    }
  },
  "cells": [
    {
      "cell_type": "markdown",
      "metadata": {
        "id": "view-in-github",
        "colab_type": "text"
      },
      "source": [
        "<a href=\"https://colab.research.google.com/github/anthonio9/PythonForKids/blob/main/Lekcja02.ipynb\" target=\"_parent\"><img src=\"https://colab.research.google.com/assets/colab-badge.svg\" alt=\"Open In Colab\"/></a>"
      ]
    },
    {
      "cell_type": "markdown",
      "metadata": {
        "id": "wUED_L2atkF4"
      },
      "source": [
        "# Lekcja 02 - nowa teoria\n",
        "Tym razem rozwiniemy prostą grę z poprzedniej lekcji o zliczanie punktacji i wyświetlenie wyniku na koniec rozgrywki, ale zanim to.. to czas poznać nieco nowej teorii programowania w Pythonie!"
      ]
    },
    {
      "cell_type": "code",
      "metadata": {
        "id": "JB6BLttntbdS"
      },
      "source": [
        "import random\n",
        "import string\n",
        "import time"
      ],
      "execution_count": 15,
      "outputs": []
    },
    {
      "cell_type": "markdown",
      "metadata": {
        "id": "G1KPcOcmuMAI"
      },
      "source": [
        "Poniżej zapisana jest implementacja funkcji **rand_letter()** z poprzedniej lekcji. Zauważ że **rand_letter()** nie zwraca żadnej wartości po wykonaniu instrukcji. Takie funkcje nazywa się funkcjami **void**, co oznacza że zwrócona wartość jest pusta. Przejdź do kolejnej części tekstu - tam jest więcej na ten temat.*italicized text*"
      ]
    },
    {
      "cell_type": "code",
      "metadata": {
        "id": "ZqGT0ox4u3UO"
      },
      "source": [
        "def rand_letter():\n",
        "    # losujemy literkę z listy literek\n",
        "    random_letter = random.choice(string.ascii_letters)\n",
        "\n",
        "    # zacznij mierzyć czas\n",
        "    time_start = time.time()\n",
        "\n",
        "    # zabierz literkę od użytkownika\n",
        "    user_char = input(f\"Podaj literę {random_letter}: \") \n",
        "\n",
        "    # wypisujemy wynik użytkownika\n",
        "    print(f\"Twój wynik = {user_char == random_letter}\")\n",
        "    \n",
        "    # mierzymy czas zakończenie rundy\n",
        "    time_end = time.time()\n",
        "\n",
        "    # liczymy różnice czasu\n",
        "    time_diff = time_end - time_start\n",
        "\n",
        "    # wypisz czas reakcji użytkownika\n",
        "    print(f\"Twój czas to: {time_diff} s\\n\")"
      ],
      "execution_count": 16,
      "outputs": []
    },
    {
      "cell_type": "markdown",
      "metadata": {
        "id": "-CKtT7E3R88f"
      },
      "source": [
        "## Void i None, czyli pustka?\n",
        "\n",
        "Funkcje w języku Python dzielimy na typ `void` i całą resztę. Wcześniej napisałem, ze funkcje typu `void` nie zwracają żadnej wartości, nie jest to do końca prawdą, zobacz na przykładzie poniżej.. czy na pewno funkcja `test_void()` nic nie zwraca po wykonaniu?"
      ]
    },
    {
      "cell_type": "code",
      "metadata": {
        "colab": {
          "base_uri": "https://localhost:8080/"
        },
        "id": "fTfL5nfoSutY",
        "outputId": "5edf0547-6f33-4fb2-a7fa-32fc4b2ccbcd"
      },
      "source": [
        "def test_void():\n",
        "    print('Test void wykonany\\n')\n",
        "\n",
        "# tutaj wywołana jest funkcja test_void() i wypisana zwrócona przez nią wartość\n",
        "print(f'Wynik test_void: {test_void()}')"
      ],
      "execution_count": 17,
      "outputs": [
        {
          "output_type": "stream",
          "text": [
            "Test void wykonany\n",
            "\n",
            "Wynik test_void: None\n"
          ],
          "name": "stdout"
        }
      ]
    },
    {
      "cell_type": "markdown",
      "metadata": {
        "id": "UTjvLfliT7kj"
      },
      "source": [
        "I co? Widzisz `Wynik test_void: None`, prawda? No właśnie, fukcje typu `void` zwracają specjąlną wartość `None`, która oznacza brak wartości. `None` to po prostu nic, pustka, brak. Dlatego nie powinno się przypisywać do zmiennej wyniku funckji typu `void`."
      ]
    },
    {
      "cell_type": "markdown",
      "metadata": {
        "id": "1ws8o8yaWGaz"
      },
      "source": [
        "## `None` w zmiennych\n",
        "\n",
        "Poza tym, że `None` może być zwrócone przez funkcje typu `void`, to może też naturalnie występować jako pierwotna wartość zmiennej. Mimo tego, że `None` symbolizuje **brak wartości**, to samo w sobie tez jest wartością, a to ozanacza że może być przypisane do zmiennej. Pewnie dziwnie to brzmi, ale patrz!\n"
      ]
    },
    {
      "cell_type": "code",
      "metadata": {
        "colab": {
          "base_uri": "https://localhost:8080/"
        },
        "id": "bayJ3XHfXGjy",
        "outputId": "4065490e-d94e-4a71-d522-ddee660c1e9a"
      },
      "source": [
        "# Do zmiennej var_none przypisujemy wartość None\n",
        "var_none = None\n",
        "\n",
        "# Wypisujemy wartość var_none\n",
        "print(f'Wartość var_none = {var_none}')"
      ],
      "execution_count": 18,
      "outputs": [
        {
          "output_type": "stream",
          "text": [
            "Wartość var_none = None\n"
          ],
          "name": "stdout"
        }
      ]
    },
    {
      "cell_type": "markdown",
      "metadata": {
        "id": "4GxXiWzPX0Z0"
      },
      "source": [
        "`None` jest często uzywane jako podstawowa wartość zmiennej, po to aby zaznaczyć że ta zmienna nie została jeszcze uzyta, albo po to, żeby po prostu ominąć jej uzycie. Na przykładzie poniżej widać jak instrukcja `if` zachowuje się w kontekście zmiennej z wartością `None`. Zauważ że `test_none(var)` też jest typu `void`."
      ]
    },
    {
      "cell_type": "code",
      "metadata": {
        "colab": {
          "base_uri": "https://localhost:8080/"
        },
        "id": "nr5y_AWDYTO1",
        "outputId": "5028ca1e-41f1-4f78-c919-f7ce74bf0157"
      },
      "source": [
        "def test_none(var):\n",
        "    \"\"\"Funckcja sprawdzająca czy zmienna var jest pusta\"\"\"\n",
        "    if var is None:\n",
        "      print('Przekazana zmienna jest pusta!')\n",
        "    else:\n",
        "      print(f'Przekazana zmienna ma wartość: {var}')\n",
        "\n",
        "# tutaj zmienna var1 jest puste i funkcja test_none powinna to zauważyć\n",
        "var1 = None\n",
        "test_none(var1)\n",
        "\n",
        "# tutaj zmienna var1 ma wartość, czy test_none() też o tym wie?\n",
        "var1 = 5698\n",
        "test_none(var1)"
      ],
      "execution_count": 19,
      "outputs": [
        {
          "output_type": "stream",
          "text": [
            "Przekazana zmienna jest pusta!\n",
            "Przekazana zmienna ma wartość: 5698\n"
          ],
          "name": "stdout"
        }
      ]
    },
    {
      "cell_type": "markdown",
      "metadata": {
        "id": "lmerxPUua1ck"
      },
      "source": [
        "I co działa? Jak widać, czasem po prostu chcemy uzyć pustej wartości, zapamiętaj to - w przyszłości się jeszcze przyda :)"
      ]
    },
    {
      "cell_type": "markdown",
      "metadata": {
        "id": "qWj0LSuUbS1F"
      },
      "source": [
        "## Funkcje zwracające konkretne wartości\n",
        "\n",
        "Ale to nie wszystko! Programowanie bez zwracania wartości to nienajlepszy pomysł, dlatego czas nauczyć się jak zwrócić wartość z funkcji. \n",
        "Sprawa jest prosta, wiesz jak po angielsku jest *zwrócić*, albo *oddać*? **RETURN** - tego też słowa użyjemy. Składnia też jest prosta, napierw **return** a potem **nazwa zmiennej**, której wartość chcemy zwrócić:\n",
        "`return <nazwa zmiennej>`. Na przykładzie poniżej zwrócona zostanie lista, przeczytaj kod uważnie!"
      ]
    },
    {
      "cell_type": "code",
      "metadata": {
        "colab": {
          "base_uri": "https://localhost:8080/"
        },
        "id": "noHhQ_FKdxdX",
        "outputId": "f77e6f14-f9d6-46a2-9159-dbb30d469088"
      },
      "source": [
        "def list_maker(limit):\n",
        "    \"\"\"\n",
        "    list_maker(limit) tworzy listę z elementami [0, ..., limit - 1].\n",
        "    dla list_maker(4) otrzymamy [0, 1, 2, 3],\n",
        "    dla list_maker(7) otrzymamy [0, 1, 2, 3, 4, 5, 6, 7]\n",
        "\n",
        "    range(limit) tworzy specjalną zmienną, która zawiera w sobie kolejne wartości od 0 do limit - 1.\n",
        "    Śmieszne jest to że nie zwraca wszystkiego na raz, tylko wypluwa po jednej wartości.\n",
        "    Żeby dostać wszystko na raz w postaci listy, trzeba przekonwertować range() do listy,\n",
        "    stąd właśnie list(range(list)).\n",
        "\n",
        "    Jeśli nie rozumiesz kodu, a wiem że nie jest do końca jasny to daj znać, a ci go wyjaśnię ;)\n",
        "    \"\"\"\n",
        "    return list(range(limit))\n",
        "\n",
        "# tutaj użyjemy zmiennej do przechowania listy\n",
        "list1 = list_maker(5)\n",
        "print(f'Zwrócona lista 1 = {list1}')\n",
        "\n",
        "# i tu też\n",
        "list2 = list_maker(10)\n",
        "print(f'Zwrócona lista 2 = {list2}')\n",
        "\n",
        "# a tu po prostu od razu ją wypiszemy\n",
        "print(f'Zwrócona lista 3 = {list_maker(11)}')"
      ],
      "execution_count": 20,
      "outputs": [
        {
          "output_type": "stream",
          "text": [
            "Zwrócona lista 1 = [0, 1, 2, 3, 4]\n",
            "Zwrócona lista 2 = [0, 1, 2, 3, 4, 5, 6, 7, 8, 9]\n",
            "Zwrócona lista 3 = [0, 1, 2, 3, 4, 5, 6, 7, 8, 9, 10]\n"
          ],
          "name": "stdout"
        }
      ]
    },
    {
      "cell_type": "markdown",
      "metadata": {
        "id": "9bvX37prgBSl"
      },
      "source": [
        "Zapamiętaj też, że funkcje mogą zwracać wszystkie możliwe typy wartości. Może to być `int`, `list`, `string`, `dict`, a nawet twoje własne klasy i funcje, o tych bardziej skomplikowanych będzie jeszcze kiedyś na innej lekcji ;)"
      ]
    },
    {
      "cell_type": "markdown",
      "metadata": {
        "id": "yN63DLK7goqI"
      },
      "source": [
        "### Zwrócenie kilku wartości?\n",
        "\n",
        "To nie wszystko! Wiemy już jak zwrócić jedną wartość, ale **UWAGA**, moża ich zwrócić też kilka. W takim przypadku podajemy kolejne zmienne lub wartości po przecinku, spójrz na przykład poniżej. Fukcja `get_string_details()` zwraca długość stringa, pierwszą i ostatnią literę.\n",
        "\n",
        "Taka instrukcja sprawia, że zmienne są pakowane w specjalną Pythonową strukturę zwaną **krotką**, po angielsku **tuple**.. ale to teraz nie jest takie ważne, jak sam fakt że dostajemy spowrotem aż dwie zmienne, a nawet więcej jeśli tylko chcemy."
      ]
    },
    {
      "cell_type": "code",
      "metadata": {
        "colab": {
          "base_uri": "https://localhost:8080/"
        },
        "id": "KsCO22EviUAY",
        "outputId": "de1be150-0573-47b3-bc56-427131ce21ad"
      },
      "source": [
        "def get_string_details(text):\n",
        "    \"\"\"\n",
        "    Ta funkcja zwraca\n",
        "    * długość zmiennej text\n",
        "    * pierwszą literę text\n",
        "    * ostatnią literę text\n",
        "    \"\"\"\n",
        "    return len(text), text[0], text[-1]\n",
        "\n",
        "text1 = \"To jest testowy tekst\"\n",
        "t_len, t_first, t_last = get_string_details(text1)\n",
        "\n",
        "print(f'Zwrócone szczegóły o zmiennej text1: t_len = {t_len}, t_first = {t_first}, t_last = {t_last}')"
      ],
      "execution_count": 21,
      "outputs": [
        {
          "output_type": "stream",
          "text": [
            "Zwrócone szczegóły o zmiennej text1: t_len = 21, t_first = T, t_last = t\n"
          ],
          "name": "stdout"
        }
      ]
    },
    {
      "cell_type": "markdown",
      "metadata": {
        "id": "sLDKX_ZFhUUz"
      },
      "source": [
        ""
      ]
    },
    {
      "cell_type": "markdown",
      "metadata": {
        "id": "8_EBPeW_jo0B"
      },
      "source": [
        "# Lekcja 02 - dalszy rozwój gry!\n",
        "\n",
        "Dobra, skoro już wiesz jak zwracać zmienne z funkcji to czas tę supermoc wykorzystać. Funkcja `rand_letter2()` poza tym, że liczy czas reakcji będzie teraz też zwracać ten czas jak i informację o poprawności wyniku do głównej części programu"
      ]
    },
    {
      "cell_type": "code",
      "metadata": {
        "id": "jGr2mgLHkUxX"
      },
      "source": [
        "def rand_letter2():\n",
        "    # losujemy literkę z listy literek\n",
        "    random_letter = random.choice(string.ascii_letters)\n",
        "\n",
        "    # zacznij mierzyć czas\n",
        "    time_start = time.time()\n",
        "\n",
        "    # zabierz literkę od użytkownika\n",
        "    user_char = input(f\"Podaj literę {random_letter}: \") \n",
        "\n",
        "    # mierzymy czas zakończenie rundy\n",
        "    time_end = time.time()\n",
        "\n",
        "    # wypisujemy wynik użytkownika\n",
        "    user_result = user_char == random_letter\n",
        "\n",
        "    if user_result:\n",
        "        print(\"DOBRZE!!!\")\n",
        "    else:\n",
        "        print(\"ŹLE :( \")\n",
        "\n",
        "    # liczymy różnice czasu\n",
        "    time_diff = time_end - time_start\n",
        "\n",
        "    # zwracamy czas reakcji i informację o poprawności wyniku\n",
        "    return time_diff, user_result"
      ],
      "execution_count": 22,
      "outputs": []
    },
    {
      "cell_type": "markdown",
      "metadata": {
        "id": "LuOwWjgDlvy7"
      },
      "source": [
        "Funkcja `play_game(rounds)` zajmie się zbieraniem wyników od `rand_letter2()` i odpowiednim ich obrobieniem."
      ]
    },
    {
      "cell_type": "code",
      "metadata": {
        "id": "6BnxfwcUmDTV"
      },
      "source": [
        "def play_game(rounds):\n",
        "    # lista przechowująca czasy\n",
        "    time_list = []\n",
        "\n",
        "    # zmienna przechowująca liczbę poprawnych odpowiedzi\n",
        "    no_correct = 0\n",
        "\n",
        "    # najdłuższa nieprzerwana sekwencja poprawnych odpowiedzi\n",
        "    max_right = 0\n",
        "\n",
        "    # nasze wymyślone punkty\n",
        "    score = 0\n",
        "\n",
        "    # wykonaj pętlę **rounds** razy \n",
        "    for i in range(rounds):\n",
        "        # pobierz wyniki z funkcji **rand_letter2()**\n",
        "        time, result = rand_letter2()\n",
        "\n",
        "        # dopisz wyniki do zmiennych time_list i no_correct\n",
        "        time_list.append(time)\n",
        "        no_correct += int(result)\n",
        "        \n",
        "        # wyzeruj max_right jeśli zły wynik, zwiększ o 1, jesli poprawny\n",
        "        if result:\n",
        "            max_right += int(result)\n",
        "        else:\n",
        "            max_right = 0\n",
        "        \n",
        "        # specjalna metryka która sprawia że im dłuższa nieprzewana poprawna sekwencj i krótszy czas - tym lepszy wynik\n",
        "        score += max_right/time\n",
        "\n",
        "    # podlicz wyniki i statystyki: najlepszy, najgorszy i średni czas\n",
        "    best_time = min(time_list)\n",
        "    worst_time = max(time_list)\n",
        "    average_time = sum(time_list)/len(time_list)\n",
        "\n",
        "    print(f\"WYNIK: {score}\\n\")\n",
        "    print(f\"Poprawne odpowiedzi: {no_correct}\")\n",
        "    print(f\"Czasostaty:\\n\\\n",
        "            Cały czas: {sum(time_list)}\\\n",
        "            Najlepszy czas: {best_time}\\\n",
        "            Najgorszy czas: {worst_time}\\\n",
        "            Średni czas: {average_time}\")"
      ],
      "execution_count": 25,
      "outputs": []
    },
    {
      "cell_type": "markdown",
      "metadata": {
        "id": "27DzG94gp-xS"
      },
      "source": [
        "Teraz czas odpalić funkcję `play_game(rounds)`. Puść cały kod od samego początku, możesz to zrobić skrótem klawiszowym `Ctrl+F9`, albo kliknąć `Runtime -> Run all`. Baw się dobrze!"
      ]
    },
    {
      "cell_type": "code",
      "metadata": {
        "id": "r5EcsOPxqMOo"
      },
      "source": [
        "# Nieskończona pętla, bo przecież nie chcemy kończyć gry, prawda?\n",
        "while True:\n",
        "    input(\"GOTÓW? Wciśnij ENTER, jeśli TAK!\\n\") \n",
        "\n",
        "    # każda gra będzie miała 15 podejść\n",
        "    play_game(15)a\n"
      ],
      "execution_count": null,
      "outputs": []
    },
    {
      "cell_type": "markdown",
      "metadata": {
        "id": "xnmJJtvHrR3D"
      },
      "source": [
        "To co? Spoko lekcja? Czego się dzisiaj nauczyliśmy?\n",
        "\n",
        "* Funkcja typu `void`\n",
        "* Jak zwracać wartości z funkcji\n",
        "* Zabawa matematyką i programowaniem\n"
      ]
    }
  ]
}