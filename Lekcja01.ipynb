{
  "nbformat": 4,
  "nbformat_minor": 0,
  "metadata": {
    "colab": {
      "name": "Lekcja01.ipynb",
      "provenance": [],
      "authorship_tag": "ABX9TyOueylgqlv5Z4/BFegtLYg3",
      "include_colab_link": true
    },
    "kernelspec": {
      "name": "python3",
      "display_name": "Python 3"
    },
    "language_info": {
      "name": "python"
    }
  },
  "cells": [
    {
      "cell_type": "markdown",
      "metadata": {
        "id": "view-in-github",
        "colab_type": "text"
      },
      "source": [
        "<a href=\"https://colab.research.google.com/github/anthonio9/PythonForKids/blob/main/Lekcja01.ipynb\" target=\"_parent\"><img src=\"https://colab.research.google.com/assets/colab-badge.svg\" alt=\"Open In Colab\"/></a>"
      ]
    },
    {
      "cell_type": "markdown",
      "metadata": {
        "id": "wUED_L2atkF4"
      },
      "source": [
        "Na tej lekcji nauczymy się prostego losowania w Pythonie.\n",
        "Będzie co nieco o modułach **rand**, **time** i **string**. "
      ]
    },
    {
      "cell_type": "code",
      "metadata": {
        "id": "JB6BLttntbdS"
      },
      "source": [
        "import random\n",
        "import string\n",
        "import time"
      ],
      "execution_count": null,
      "outputs": []
    },
    {
      "cell_type": "markdown",
      "metadata": {
        "id": "G1KPcOcmuMAI"
      },
      "source": [
        "Po imporcie modułów stworzymy funkcję, która wylosuje literkę, a potem przeczyta literkę wpisaną przez użytkownika **rand_letter()**."
      ]
    },
    {
      "cell_type": "code",
      "metadata": {
        "id": "ZqGT0ox4u3UO"
      },
      "source": [
        "def rand_letter():\n",
        "    # losujemy literkę z listy literek\n",
        "    random_letter = random.choice(string.ascii_letters)\n",
        "\n",
        "    # zacznij mierzyć czas\n",
        "    time_start = time.time()\n",
        "\n",
        "    # zabierz literkę od użytkownika\n",
        "    user_char = input(f\"Podaj literę {random_letter}: \") \n",
        "\n",
        "    # wypisujemy wynik użytkownika\n",
        "    print(f\"Twój wynik = {user_char == random_letter}\")\n",
        "    \n",
        "    # mierzymy czas zakończenie rundy\n",
        "    time_end = time.time()\n",
        "\n",
        "    # liczymy różnice czasu\n",
        "    time_diff = time_end - time_start\n",
        "\n",
        "    # wypisz czas reakcji użytkownika\n",
        "    print(f\"Twój czas to: {time_diff} s\\n\")"
      ],
      "execution_count": null,
      "outputs": []
    },
    {
      "cell_type": "markdown",
      "metadata": {
        "id": "j8P2u2ZivE8B"
      },
      "source": [
        "I na koniec odpalimy funkcje **rand_latter()** w nieskończonej pętli **while**."
      ]
    },
    {
      "cell_type": "code",
      "metadata": {
        "id": "sVGzCDcAvMZ_"
      },
      "source": [
        "while True:\n",
        "    rand_letter()"
      ],
      "execution_count": null,
      "outputs": []
    }
  ]
}